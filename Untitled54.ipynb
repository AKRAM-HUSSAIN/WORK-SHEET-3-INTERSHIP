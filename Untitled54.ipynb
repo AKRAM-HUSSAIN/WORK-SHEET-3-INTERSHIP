{
 "cells": [
  {
   "cell_type": "markdown",
   "id": "f03ddece",
   "metadata": {},
   "source": [
    "# SQL WORKSHEET 3\n"
   ]
  },
  {
   "cell_type": "markdown",
   "id": "4834020c",
   "metadata": {},
   "source": [
    "# Submitted by Akram Hussain\n",
    "intership 3"
   ]
  },
  {
   "cell_type": "code",
   "execution_count": 1,
   "id": "8236b1aa",
   "metadata": {},
   "outputs": [],
   "source": [
    "import sqlite3"
   ]
  },
  {
   "cell_type": "code",
   "execution_count": 2,
   "id": "a913d858",
   "metadata": {},
   "outputs": [],
   "source": [
    "#first connection object\n",
    "\n",
    "db=sqlite3.connect('Company_database.db')"
   ]
  },
  {
   "cell_type": "code",
   "execution_count": 3,
   "id": "afa2cfc2",
   "metadata": {},
   "outputs": [],
   "source": [
    "#create cursor object from connection\n",
    "\n",
    "cur=db.cursor()\n"
   ]
  },
  {
   "cell_type": "markdown",
   "id": "dd11cf99",
   "metadata": {},
   "source": [
    "# Q1. Write SQL query to create table Customers."
   ]
  },
  {
   "cell_type": "code",
   "execution_count": 4,
   "id": "47c61258",
   "metadata": {},
   "outputs": [
    {
     "data": {
      "text/plain": [
       "<sqlite3.Cursor at 0x1fed3074730>"
      ]
     },
     "execution_count": 4,
     "metadata": {},
     "output_type": "execute_result"
    }
   ],
   "source": [
    "cur.execute(\"create table Customers (customerNumber int primary key,customerName text,contactLastName text,contactFirstName text,phone int,addressLine1 text,addressLine2 text,city text,state text,postalCode int,country text,salesRepEmployeeNumber int,creditLimit int)\")\n"
   ]
  },
  {
   "cell_type": "markdown",
   "id": "be6b883e",
   "metadata": {},
   "source": [
    "# Q2. Write SQL query to create table Orders."
   ]
  },
  {
   "cell_type": "code",
   "execution_count": 5,
   "id": "5ddccc89",
   "metadata": {},
   "outputs": [
    {
     "data": {
      "text/plain": [
       "<sqlite3.Cursor at 0x1fed3074730>"
      ]
     },
     "execution_count": 5,
     "metadata": {},
     "output_type": "execute_result"
    }
   ],
   "source": [
    "cur.execute(\"create table Orders (orderNumber int primary key,orderDate date,requiredDate date,shippedDate date,status text,comments text,customerNumber int)\")\n"
   ]
  },
  {
   "cell_type": "markdown",
   "id": "307d2639",
   "metadata": {},
   "source": [
    "# Q3. Write SQL query to show all the columns data from the Orders Table."
   ]
  },
  {
   "cell_type": "code",
   "execution_count": 6,
   "id": "9bec3e37",
   "metadata": {},
   "outputs": [
    {
     "data": {
      "text/plain": [
       "[]"
      ]
     },
     "execution_count": 6,
     "metadata": {},
     "output_type": "execute_result"
    }
   ],
   "source": [
    "results=cur.execute(\"select * from Orders\")\n",
    "results.fetchall()"
   ]
  },
  {
   "cell_type": "markdown",
   "id": "0942bbf5",
   "metadata": {},
   "source": [
    "# Q4. Write SQL query to show all the comments from the Orders Table."
   ]
  },
  {
   "cell_type": "code",
   "execution_count": 7,
   "id": "e73a8861",
   "metadata": {},
   "outputs": [
    {
     "data": {
      "text/plain": [
       "[]"
      ]
     },
     "execution_count": 7,
     "metadata": {},
     "output_type": "execute_result"
    }
   ],
   "source": [
    "results=cur.execute('select comments from Orders')\n",
    "results.fetchall()\n"
   ]
  },
  {
   "cell_type": "markdown",
   "id": "f698aa0c",
   "metadata": {},
   "source": [
    "# Q5. Write SQL query to show orderDate and Total number of orders placed on that date, from Orders table.\n"
   ]
  },
  {
   "cell_type": "code",
   "execution_count": 8,
   "id": "25617d4c",
   "metadata": {},
   "outputs": [
    {
     "data": {
      "text/plain": [
       "[(None, 0)]"
      ]
     },
     "execution_count": 8,
     "metadata": {},
     "output_type": "execute_result"
    }
   ],
   "source": [
    "results=cur.execute(\"select orderDate,count(orderNumber) from Orders where orderDate='2022-03-25'\")\n",
    "results.fetchall()"
   ]
  },
  {
   "cell_type": "markdown",
   "id": "f22fda24",
   "metadata": {},
   "source": [
    "# Q6. Write SQL query to show employeNumber, lastName, firstName of all the employees from employees table\n"
   ]
  },
  {
   "cell_type": "code",
   "execution_count": 9,
   "id": "416b130a",
   "metadata": {},
   "outputs": [
    {
     "data": {
      "text/plain": [
       "<sqlite3.Cursor at 0x1fed3074730>"
      ]
     },
     "execution_count": 9,
     "metadata": {},
     "output_type": "execute_result"
    }
   ],
   "source": [
    "cur.execute(\"create table Employees (employeeNumber int primary key,lastName text,firstName text,extension int,email text,officeCode int,reportsTo text,jobTitle text)\")\n"
   ]
  },
  {
   "cell_type": "code",
   "execution_count": 10,
   "id": "4c6bba22",
   "metadata": {},
   "outputs": [
    {
     "data": {
      "text/plain": [
       "[]"
      ]
     },
     "execution_count": 10,
     "metadata": {},
     "output_type": "execute_result"
    }
   ],
   "source": [
    "results=cur.execute('select employeeNumber,lastName,firstName from Employees')\n",
    "results.fetchall()"
   ]
  },
  {
   "cell_type": "markdown",
   "id": "8dc8d8ba",
   "metadata": {},
   "source": [
    "# Q7. Write SQL query to show all orderNumber, customerName of the person who placed the respective order.\n"
   ]
  },
  {
   "cell_type": "code",
   "execution_count": 11,
   "id": "700193fc",
   "metadata": {},
   "outputs": [
    {
     "data": {
      "text/plain": [
       "[]"
      ]
     },
     "execution_count": 11,
     "metadata": {},
     "output_type": "execute_result"
    }
   ],
   "source": [
    "results=cur.execute('select Orders.orderNumber, Customers.customerName from Orders inner join Customers on Orders.customerNumber=Customers.customerNumber')\n",
    "results.fetchall()"
   ]
  },
  {
   "cell_type": "markdown",
   "id": "7a14ec5a",
   "metadata": {},
   "source": [
    "# Q8. Write SQL query to show name of all the customers in one column and salerepemployee name in another column."
   ]
  },
  {
   "cell_type": "code",
   "execution_count": 12,
   "id": "b838d1bc",
   "metadata": {},
   "outputs": [
    {
     "data": {
      "text/plain": [
       "[]"
      ]
     },
     "execution_count": 12,
     "metadata": {},
     "output_type": "execute_result"
    }
   ],
   "source": [
    "results=cur.execute('select customerName,salesRepEmployeeNumber from Customers')\n",
    "results.fetchall()\n"
   ]
  },
  {
   "cell_type": "markdown",
   "id": "1e41443f",
   "metadata": {},
   "source": [
    "# Q9. Write a SQL query to show Date in one column and total payment amount of the payments made on that date from the payments table."
   ]
  },
  {
   "cell_type": "code",
   "execution_count": 13,
   "id": "3e9f4794",
   "metadata": {},
   "outputs": [
    {
     "data": {
      "text/plain": [
       "<sqlite3.Cursor at 0x1fed3074730>"
      ]
     },
     "execution_count": 13,
     "metadata": {},
     "output_type": "execute_result"
    }
   ],
   "source": [
    "cur.execute(\"create table Payments (customerNumber int primary key,checknumber int,paymentDate date,amount real)\")\n"
   ]
  },
  {
   "cell_type": "code",
   "execution_count": 14,
   "id": "f3238069",
   "metadata": {},
   "outputs": [
    {
     "data": {
      "text/plain": [
       "[(None, None)]"
      ]
     },
     "execution_count": 14,
     "metadata": {},
     "output_type": "execute_result"
    }
   ],
   "source": [
    "results=cur.execute('select paymentDate,sum(amount) from Payments')\n",
    "results.fetchall()"
   ]
  },
  {
   "cell_type": "markdown",
   "id": "53563ac4",
   "metadata": {},
   "source": [
    "# Q10. SQL query to show all the products productName, MSRP, productDescription from the products table."
   ]
  },
  {
   "cell_type": "code",
   "execution_count": 16,
   "id": "d64d596e",
   "metadata": {},
   "outputs": [
    {
     "data": {
      "text/plain": [
       "<sqlite3.Cursor at 0x1fed3074730>"
      ]
     },
     "execution_count": 16,
     "metadata": {},
     "output_type": "execute_result"
    }
   ],
   "source": [
    "cur.execute(\"create table Products (productCode int primary key,productName text,productLine text,productScale text,productVendor text,productDescription text,quantityInStock int,buyPrice real,MSRP real)\")\n"
   ]
  },
  {
   "cell_type": "code",
   "execution_count": 17,
   "id": "e3826c51",
   "metadata": {},
   "outputs": [
    {
     "data": {
      "text/plain": [
       "[]"
      ]
     },
     "execution_count": 17,
     "metadata": {},
     "output_type": "execute_result"
    }
   ],
   "source": [
    "results=cur.execute('select productName,MSRP,productDescription from Products')\n",
    "results.fetchall()\n"
   ]
  },
  {
   "cell_type": "markdown",
   "id": "47ded94f",
   "metadata": {},
   "source": [
    "# Q11. Write SQL query to print the productName, productDescription of the most ordered product."
   ]
  },
  {
   "cell_type": "code",
   "execution_count": 18,
   "id": "a23282e1",
   "metadata": {},
   "outputs": [
    {
     "data": {
      "text/plain": [
       "<sqlite3.Cursor at 0x1fed3074730>"
      ]
     },
     "execution_count": 18,
     "metadata": {},
     "output_type": "execute_result"
    }
   ],
   "source": [
    "cur.execute(\"create table Orderdetails (orderNumber int primary key,productCode int,quantityOrdered int,priceEach real,orderLineNumber int)\")"
   ]
  },
  {
   "cell_type": "code",
   "execution_count": 19,
   "id": "b26e1315",
   "metadata": {},
   "outputs": [
    {
     "data": {
      "text/plain": [
       "[]"
      ]
     },
     "execution_count": 19,
     "metadata": {},
     "output_type": "execute_result"
    }
   ],
   "source": [
    "results=cur.execute('select Products.productName, Products.productDescription from Products inner join Orderdetails on Products.productCode=Orderdetails.productCode')\n",
    "results.fetchall()"
   ]
  },
  {
   "cell_type": "markdown",
   "id": "115e82b8",
   "metadata": {},
   "source": [
    "# Q12. Write SQL query to print the city name where maximum number of orders were placed."
   ]
  },
  {
   "cell_type": "code",
   "execution_count": 20,
   "id": "2658bbcf",
   "metadata": {},
   "outputs": [
    {
     "data": {
      "text/plain": [
       "[]"
      ]
     },
     "execution_count": 20,
     "metadata": {},
     "output_type": "execute_result"
    }
   ],
   "source": [
    "results=cur.execute('select Orderdetails.orderNumber,Orders.customerNumber,Customers.city from Orderdetails join Orders on Orderdetails.orderNumber=Orders.orderNumber join Customers on Customers.customerNumber=Orders.customerNumber ')\n",
    "results.fetchall()\n"
   ]
  },
  {
   "cell_type": "markdown",
   "id": "8bcdc82a",
   "metadata": {},
   "source": [
    "# Q13. SQL query to get the name of the state having maximum number of customers.\n"
   ]
  },
  {
   "cell_type": "code",
   "execution_count": 21,
   "id": "f54314ed",
   "metadata": {},
   "outputs": [
    {
     "data": {
      "text/plain": [
       "[(None, None)]"
      ]
     },
     "execution_count": 21,
     "metadata": {},
     "output_type": "execute_result"
    }
   ],
   "source": [
    "results=cur.execute('select max(state),customerName from Customers')\n",
    "results.fetchall()"
   ]
  },
  {
   "cell_type": "markdown",
   "id": "806d87f4",
   "metadata": {},
   "source": [
    "# Q14. Write SQL query to print the employee number in one column and Full name of the employee in the second column for all the employees.\n"
   ]
  },
  {
   "cell_type": "code",
   "execution_count": 22,
   "id": "08c1d9b1",
   "metadata": {},
   "outputs": [
    {
     "data": {
      "text/plain": [
       "[]"
      ]
     },
     "execution_count": 22,
     "metadata": {},
     "output_type": "execute_result"
    }
   ],
   "source": [
    "results=cur.execute('select employeeNumber,firstname+\" \"+lastName as \"fullName\" from Employees')\n",
    "results.fetchall()\n"
   ]
  },
  {
   "cell_type": "markdown",
   "id": "ef572dab",
   "metadata": {},
   "source": [
    "# Q15. Write SQL query to print the orderNumber, customer Name and total amount paid by the customer for that order (quantityOrdered × priceEach)."
   ]
  },
  {
   "cell_type": "code",
   "execution_count": 23,
   "id": "2fdde8e4",
   "metadata": {},
   "outputs": [
    {
     "data": {
      "text/plain": [
       "[]"
      ]
     },
     "execution_count": 23,
     "metadata": {},
     "output_type": "execute_result"
    }
   ],
   "source": [
    "results=cur.execute('select Orders.orderNumber,Customers.customerName,Payments.amount from Orders join Customers on Orders.customerNumber=Customers.customerNumber join Payments on Payments.customerNumber=Customers.customerNumber ')\n",
    "results.fetchall()"
   ]
  },
  {
   "cell_type": "code",
   "execution_count": null,
   "id": "5bfcc60b",
   "metadata": {},
   "outputs": [],
   "source": []
  }
 ],
 "metadata": {
  "kernelspec": {
   "display_name": "Python 3 (ipykernel)",
   "language": "python",
   "name": "python3"
  },
  "language_info": {
   "codemirror_mode": {
    "name": "ipython",
    "version": 3
   },
   "file_extension": ".py",
   "mimetype": "text/x-python",
   "name": "python",
   "nbconvert_exporter": "python",
   "pygments_lexer": "ipython3",
   "version": "3.9.12"
  }
 },
 "nbformat": 4,
 "nbformat_minor": 5
}
